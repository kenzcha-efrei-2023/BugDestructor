{
 "cells": [
  {
   "cell_type": "markdown",
   "metadata": {
    "id": "kQY4fJl7dCwj",
    "pycharm": {
     "name": "#%% md\n"
    }
   },
   "source": [
    "# Projet Voltaire 2.0 : Rousseau\n",
    "### Equipe 242\n",
    "\n",
    "\n",
    "**Etape 1** : import des librairies"
   ]
  },
  {
   "cell_type": "code",
   "execution_count": 40,
   "metadata": {
    "pycharm": {
     "name": "#%%\n"
    }
   },
   "outputs": [],
   "source": [
    "\n",
    "import pandas as pd\n",
    "from tensorflow.keras.models import load_model\n",
    "from tensorflow.keras.preprocessing import text, sequence\n",
    "from tensorflow.keras.preprocessing.text import Tokenizer\n",
    "from sklearn.model_selection import train_test_split\n",
    "from tensorflow.keras.models import Sequential\n",
    "from tensorflow.keras.layers import Dense, Conv1D, MaxPooling1D, Flatten,Dropout\n",
    "from tensorflow.keras.layers import Embedding\n"
   ]
  },
  {
   "cell_type": "markdown",
   "metadata": {},
   "source": [
    "**Etape 2** : conversion des datasets (.csv) en dataframes pandas et retrait des valeurs aberrantes"
   ]
  },
  {
   "cell_type": "code",
   "execution_count": 41,
   "metadata": {
    "pycharm": {
     "name": "#%%\n"
    }
   },
   "outputs": [
    {
     "data": {
      "text/html": [
       "<div>\n",
       "<style scoped>\n",
       "    .dataframe tbody tr th:only-of-type {\n",
       "        vertical-align: middle;\n",
       "    }\n",
       "\n",
       "    .dataframe tbody tr th {\n",
       "        vertical-align: top;\n",
       "    }\n",
       "\n",
       "    .dataframe thead th {\n",
       "        text-align: right;\n",
       "    }\n",
       "</style>\n",
       "<table border=\"1\" class=\"dataframe\">\n",
       "  <thead>\n",
       "    <tr style=\"text-align: right;\">\n",
       "      <th></th>\n",
       "      <th>answer</th>\n",
       "      <th>is_true</th>\n",
       "    </tr>\n",
       "  </thead>\n",
       "  <tbody>\n",
       "    <tr>\n",
       "      <th>0</th>\n",
       "      <td>JHBOHBPQcOBEDPeCBMeBMR</td>\n",
       "      <td>1</td>\n",
       "    </tr>\n",
       "    <tr>\n",
       "      <th>1</th>\n",
       "      <td>HBOHBPQcOBEDPeCBMeBMR</td>\n",
       "      <td>1</td>\n",
       "    </tr>\n",
       "    <tr>\n",
       "      <th>2</th>\n",
       "      <td>JHBOHBPQcOBEDPeCBMeBMR</td>\n",
       "      <td>1</td>\n",
       "    </tr>\n",
       "    <tr>\n",
       "      <th>3</th>\n",
       "      <td>HBOHBPQcOBEDPQeCBMR^QeBMRR</td>\n",
       "      <td>1</td>\n",
       "    </tr>\n",
       "    <tr>\n",
       "      <th>4</th>\n",
       "      <td>HBOHBPQcOBEDPQeCBMR^QeBMRR</td>\n",
       "      <td>0</td>\n",
       "    </tr>\n",
       "    <tr>\n",
       "      <th>...</th>\n",
       "      <td>...</td>\n",
       "      <td>...</td>\n",
       "    </tr>\n",
       "    <tr>\n",
       "      <th>196</th>\n",
       "      <td>HBOHBPQeBMR</td>\n",
       "      <td>1</td>\n",
       "    </tr>\n",
       "    <tr>\n",
       "      <th>197</th>\n",
       "      <td>HBOHBPQeOBEGDPNBCBNOBEDPMR</td>\n",
       "      <td>0</td>\n",
       "    </tr>\n",
       "    <tr>\n",
       "      <th>198</th>\n",
       "      <td>HBOHBPQcOBEGDPQeBMReCBMR</td>\n",
       "      <td>1</td>\n",
       "    </tr>\n",
       "    <tr>\n",
       "      <th>199</th>\n",
       "      <td>HBOHBPQeBMR</td>\n",
       "      <td>1</td>\n",
       "    </tr>\n",
       "    <tr>\n",
       "      <th>200</th>\n",
       "      <td>HBOHBPQeDMR</td>\n",
       "      <td>1</td>\n",
       "    </tr>\n",
       "  </tbody>\n",
       "</table>\n",
       "<p>200 rows × 2 columns</p>\n",
       "</div>"
      ],
      "text/plain": [
       "                         answer  is_true\n",
       "0        JHBOHBPQcOBEDPeCBMeBMR        1\n",
       "1         HBOHBPQcOBEDPeCBMeBMR        1\n",
       "2        JHBOHBPQcOBEDPeCBMeBMR        1\n",
       "3    HBOHBPQcOBEDPQeCBMR^QeBMRR        1\n",
       "4    HBOHBPQcOBEDPQeCBMR^QeBMRR        0\n",
       "..                          ...      ...\n",
       "196                 HBOHBPQeBMR        1\n",
       "197  HBOHBPQeOBEGDPNBCBNOBEDPMR        0\n",
       "198    HBOHBPQcOBEGDPQeBMReCBMR        1\n",
       "199                 HBOHBPQeBMR        1\n",
       "200                 HBOHBPQeDMR        1\n",
       "\n",
       "[200 rows x 2 columns]"
      ]
     },
     "execution_count": 41,
     "metadata": {},
     "output_type": "execute_result"
    }
   ],
   "source": [
    "nom = \"moyenne\"\n",
    "df = pd.read_csv(nom+'.csv')\n",
    "df = df.dropna()\n",
    "df"
   ]
  },
  {
   "cell_type": "markdown",
   "metadata": {},
   "source": [
    "**Etape 3** : Tokeniser les lexemes, et vectorisation des reponses"
   ]
  },
  {
   "cell_type": "code",
   "execution_count": 42,
   "metadata": {
    "pycharm": {
     "name": "#%%\n"
    }
   },
   "outputs": [],
   "source": [
    "tok = Tokenizer(char_level=True)\n",
    "tok.fit_on_texts(df.answer)\n",
    "ma = max([len(i) for i in df[\"answer\"]])\n",
    "ma\n",
    "X = tok.texts_to_sequences(df[\"answer\"])\n",
    "X = sequence.pad_sequences(X, maxlen=ma)\n"
   ]
  },
  {
   "cell_type": "markdown",
   "metadata": {},
   "source": [
    "**Etape 4** : Creation modele"
   ]
  },
  {
   "cell_type": "code",
   "execution_count": 43,
   "metadata": {
    "pycharm": {
     "name": "#%%\n"
    }
   },
   "outputs": [
    {
     "name": "stdout",
     "output_type": "stream",
     "text": [
      "Model: \"sequential_5\"\n",
      "_________________________________________________________________\n",
      "Layer (type)                 Output Shape              Param #   \n",
      "=================================================================\n",
      "embedding_5 (Embedding)      (None, 58, 8)             152       \n",
      "_________________________________________________________________\n",
      "conv1d_5 (Conv1D)            (None, 58, 16)            272       \n",
      "_________________________________________________________________\n",
      "max_pooling1d_5 (MaxPooling1 (None, 58, 16)            0         \n",
      "_________________________________________________________________\n",
      "flatten_5 (Flatten)          (None, 928)               0         \n",
      "_________________________________________________________________\n",
      "dense_10 (Dense)             (None, 32)                29728     \n",
      "_________________________________________________________________\n",
      "dropout_5 (Dropout)          (None, 32)                0         \n",
      "_________________________________________________________________\n",
      "dense_11 (Dense)             (None, 1)                 33        \n",
      "=================================================================\n",
      "Total params: 30,185\n",
      "Trainable params: 30,185\n",
      "Non-trainable params: 0\n",
      "_________________________________________________________________\n"
     ]
    }
   ],
   "source": [
    "model = Sequential()\n",
    "model.add(Embedding(len(tok.word_index)+1, 8, input_length=ma))\n",
    "model.add(Conv1D(filters=16, kernel_size=2, padding='same', activation='relu'))\n",
    "model.add(MaxPooling1D(pool_size=1))\n",
    "model.add(Flatten())\n",
    "model.add(Dense(32, activation='relu'))\n",
    "model.add(Dropout(0.5))\n",
    "model.add(Dense(1, activation='sigmoid'))\n",
    "model.compile(loss='binary_crossentropy', optimizer='adam', metrics=['accuracy'])\n",
    "model.summary()"
   ]
  },
  {
   "cell_type": "markdown",
   "metadata": {},
   "source": [
    "**Etape 5** : Entrainement Modele"
   ]
  },
  {
   "cell_type": "code",
   "execution_count": 44,
   "metadata": {
    "pycharm": {
     "name": "#%%\n"
    }
   },
   "outputs": [
    {
     "name": "stdout",
     "output_type": "stream",
     "text": [
      "Epoch 1/15\n",
      "120/120 [==============================] - 1s 3ms/step - loss: 0.6830 - accuracy: 0.5750 - val_loss: 0.7416 - val_accuracy: 0.4500\n",
      "Epoch 2/15\n",
      "120/120 [==============================] - 0s 2ms/step - loss: 0.6466 - accuracy: 0.5750 - val_loss: 0.6353 - val_accuracy: 0.5625\n",
      "Epoch 3/15\n",
      "120/120 [==============================] - 0s 2ms/step - loss: 0.5655 - accuracy: 0.7167 - val_loss: 0.5946 - val_accuracy: 0.7250\n",
      "Epoch 4/15\n",
      "120/120 [==============================] - 0s 2ms/step - loss: 0.4891 - accuracy: 0.7667 - val_loss: 0.4804 - val_accuracy: 0.7750\n",
      "Epoch 5/15\n",
      "120/120 [==============================] - 0s 2ms/step - loss: 0.4209 - accuracy: 0.8167 - val_loss: 0.3988 - val_accuracy: 0.8750\n",
      "Epoch 6/15\n",
      "120/120 [==============================] - 0s 2ms/step - loss: 0.3740 - accuracy: 0.8750 - val_loss: 0.3674 - val_accuracy: 0.8625\n",
      "Epoch 7/15\n",
      "120/120 [==============================] - 0s 2ms/step - loss: 0.3524 - accuracy: 0.8667 - val_loss: 0.3723 - val_accuracy: 0.8625\n",
      "Epoch 8/15\n",
      "120/120 [==============================] - 0s 2ms/step - loss: 0.2849 - accuracy: 0.9083 - val_loss: 0.3211 - val_accuracy: 0.8750\n",
      "Epoch 9/15\n",
      "120/120 [==============================] - 0s 2ms/step - loss: 0.2497 - accuracy: 0.8833 - val_loss: 0.3263 - val_accuracy: 0.8750\n",
      "Epoch 10/15\n",
      "120/120 [==============================] - 0s 2ms/step - loss: 0.2232 - accuracy: 0.9083 - val_loss: 0.3324 - val_accuracy: 0.8625\n",
      "Epoch 11/15\n",
      "120/120 [==============================] - 0s 2ms/step - loss: 0.2031 - accuracy: 0.9333 - val_loss: 0.3499 - val_accuracy: 0.7875\n",
      "Epoch 12/15\n",
      "120/120 [==============================] - 0s 2ms/step - loss: 0.2030 - accuracy: 0.8833 - val_loss: 0.3037 - val_accuracy: 0.8875\n",
      "Epoch 13/15\n",
      "120/120 [==============================] - 0s 2ms/step - loss: 0.1996 - accuracy: 0.9083 - val_loss: 0.3045 - val_accuracy: 0.9000\n",
      "Epoch 14/15\n",
      "120/120 [==============================] - 0s 2ms/step - loss: 0.1654 - accuracy: 0.9417 - val_loss: 0.3072 - val_accuracy: 0.8875\n",
      "Epoch 15/15\n",
      "120/120 [==============================] - 0s 2ms/step - loss: 0.1631 - accuracy: 0.9333 - val_loss: 0.3334 - val_accuracy: 0.8875\n"
     ]
    },
    {
     "data": {
      "text/plain": [
       "<tensorflow.python.keras.callbacks.History at 0x21d075bc5e0>"
      ]
     },
     "execution_count": 44,
     "metadata": {},
     "output_type": "execute_result"
    }
   ],
   "source": [
    "X_train, X_test, y_train, y_test = train_test_split(X, df[\"is_true\"], test_size=0.4)\n",
    "model.fit(X_train, y_train, validation_data=(X_test, y_test), epochs=15, batch_size=1)\n"
   ]
  },
  {
   "cell_type": "markdown",
   "source": [
    "**Etape 6**:Exporter model"
   ],
   "metadata": {
    "collapsed": false
   }
  },
  {
   "cell_type": "code",
   "execution_count": null,
   "outputs": [],
   "source": [
    "model.save(\"model_\"+nom)"
   ],
   "metadata": {
    "collapsed": false,
    "pycharm": {
     "name": "#%%\n"
    }
   }
  },
  {
   "cell_type": "markdown",
   "source": [
    "**Etape 7**: Importer model"
   ],
   "metadata": {
    "collapsed": false
   }
  },
  {
   "cell_type": "code",
   "execution_count": null,
   "outputs": [],
   "source": [
    "reconstructed_model = load_model(\"model_\"+nom)"
   ],
   "metadata": {
    "collapsed": false,
    "pycharm": {
     "name": "#%%\n"
    }
   }
  },
  {
   "cell_type": "markdown",
   "metadata": {},
   "source": [
    "reconstructed_model = load_model(\"model_\"+nom)"
   ]
  },
  {
   "cell_type": "code",
   "execution_count": 45,
   "metadata": {},
   "outputs": [
    {
     "name": "stdout",
     "output_type": "stream",
     "text": [
      "INFO:tensorflow:Assets written to: model_val_abs\\assets\n"
     ]
    }
   ],
   "source": [
    "model.save(\"model_\"+nom)"
   ]
  },
  {
   "cell_type": "markdown",
   "metadata": {},
   "source": [
    "**Etape 7**: Importer model"
   ]
  },
  {
   "cell_type": "code",
   "execution_count": 46,
   "metadata": {},
   "outputs": [],
   "source": [
    "reconstructed_model = load_model(\"model_\"+nom)"
   ]
  }
 ],
 "metadata": {
  "colab": {
   "collapsed_sections": [],
   "name": "Rousseau.ipynb",
   "provenance": []
  },
  "kernelspec": {
   "display_name": "Python 3",
   "language": "python",
   "name": "python3"
  },
  "language_info": {
   "codemirror_mode": {
    "name": "ipython",
    "version": 3
   },
   "file_extension": ".py",
   "mimetype": "text/x-python",
   "name": "python",
   "nbconvert_exporter": "python",
   "pygments_lexer": "ipython3",
   "version": "3.8.8"
  }
 },
 "nbformat": 4,
 "nbformat_minor": 1
}