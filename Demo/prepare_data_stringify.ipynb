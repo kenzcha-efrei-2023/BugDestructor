{
 "cells": [
  {
   "cell_type": "markdown",
   "metadata": {},
   "source": [
    "# Projet Voltaire 2.0\n",
    "## Préparation de la donnée 2 : attribution des types de mots\n",
    "### Equipe 242\n",
    "![Voltaire](coolVoltaire.png)\n",
    "---\n",
    "Cet ensemble de fonctions va prendre en entrée la liste de tokens, ou mots, que nous avons obtenu avec la méthode sashimi et va \n",
    "attribuer à chaque mot une catégorie.  \n",
    "\n",
    "Pour prendre un example, à partir d'un fichier composé du code int var = 3, nous avons obtenu la liste [\"int\", \"var\", \"=\", \"3\"] grâce à la méthode sashimi, et nous voulons maintenant obtenir une string sous la forme \"type id affectation valeur\".  \n",
    "    \n",
    "Voici toutes les fonctions avec un exemple d'utilisation pour chacune. Elles sont toutes localisées dans le fichier \"stringify.py\"\n",
    "\n",
    "1. _Variable en entrée_\n",
    "\n",
    "words est la liste de mot que nous avons obtenu grâce à la méthode sashimi."
   ]
  },
  {
   "cell_type": "code",
   "execution_count": 3,
   "metadata": {},
   "outputs": [],
   "source": [
    "words = ['float', 'average', '(', 'float', 'values', '[', ']', ',', 'int', 'n_vals', ')', '{', 'int', 'i', ';', 'float', 'res', '=', '0', ';', 'for', '(', 'i', '=', '0', ';', 'i', '<', 'n_vals', ';', 'i', '+', '+', ')', 'res', '+', '=', 'values', '[', 'i', ']', ';', 'return', '(', 'res', '/', 'n_values', ')', ';', 'printf', '(', '\"%c\"', ',', \"'a'\", ')', ';', '}']"
   ]
  },
  {
   "cell_type": "markdown",
   "metadata": {},
   "source": [
    "2. _Enumeration des différents types de mots_\n",
    "\n",
    "Nous créons une énumeration afin d'associer à chaque type de mot un entier (operator, comparator, ouverture de parenthèse, fermeture de parenthèse ...).\n",
    "Pour trouver les différentes catégories, on peut se demander, \"si je remplace ce mot par un tel, est ce que le code a encore un sens ?\"\n",
    "\n",
    "Ainsi par exemple, les operateurs \"+\", \"-\", \"/\" peuvent être échanger, ils font donc partie de la même catégorie. \n",
    "La parenthèse \"(\" en revanche ne peut pas etre remplacé par un \")\" ou \"{\". Ainsi elle représente une catégorie à part tout comme les \"]\" ou \"{\".\n",
    "\n",
    "De nombreux mots-clés ne peuvent être rassembler avec d'autres mots, ainsi nous avons de nombreuses catégories qui ne sont composés que d'un seul mot."
   ]
  },
  {
   "cell_type": "code",
   "execution_count": null,
   "metadata": {},
   "outputs": [],
   "source": [
    "import enum\n",
    "  \n",
    "# creating enumerations using class\n",
    "class Type(enum.Enum):\n",
    "    notDefined = 0\n",
    "    id = 1\n",
    "    operator = 2\n",
    "    value = 3\n",
    "    comparator = 4\n",
    "    itterrator = 5\n",
    "    affectation = 6\n",
    "    type = 7\n",
    "    optionType = 8\n",
    "    sign = 9\n",
    "    long = 10\n",
    "    virgule = 11\n",
    "    pointVirg = 12\n",
    "    etoile = 13\n",
    "    par1 = 14\n",
    "    par2 = 15\n",
    "    curly1 = 16\n",
    "    curly2 = 17\n",
    "    croch1 = 18\n",
    "    croch2 = 19\n",
    "    deuxPoints = 20\n",
    "    whil = 21\n",
    "    aut = 22\n",
    "    brea = 23\n",
    "    case = 24\n",
    "    const = 25\n",
    "    cont = 26\n",
    "    default = 27\n",
    "    do = 28\n",
    "    els = 29\n",
    "    enum = 30\n",
    "    extern = 31\n",
    "    f = 32\n",
    "    goto = 33\n",
    "    i = 34\n",
    "    register = 35\n",
    "    ret = 36\n",
    "    sizeof = 37\n",
    "    static = 38\n",
    "    struct = 39\n",
    "    switch = 40\n",
    "    typedef = 41\n",
    "    union = 42\n",
    "    void = 43\n",
    "    volatile = 44"
   ]
  },
  {
   "cell_type": "markdown",
   "metadata": {},
   "source": [
    "3. __Les fonctions de catégorisations__\n",
    "\n",
    "Nous avons implémenter plusieurs fonctions qui nous permettent de catégoriser certaines catégories telle que:\n",
    "- les opérateurs : '+','-','/'\n",
    "- les comparateurs : '<','>', '<=', '>=', '==', '!='\n",
    "- les iterrateurs : '++','--'\n",
    "- les affecteurs : '=','+=','-='\n",
    "- les mot clés utilisés pour les types de variable : 'char','int','float', 'double', 'void'\n",
    "\n",
    "ainsi, les différentes fonctions vont comparer chaque mot (string) avec les caractères qui font partit de leur catégorie et retourner True or False."
   ]
  },
  {
   "cell_type": "code",
   "execution_count": 59,
   "metadata": {},
   "outputs": [],
   "source": [
    "def isOperator(string):\n",
    "    list = ['+','-','/']\n",
    "\n",
    "    if(string in list):\n",
    "        return True\n",
    "    return False\n",
    "\n",
    "def isComparator(string):\n",
    "    list = ['<','>', '<=', '>=', '==', '!=']\n",
    "\n",
    "    if(string in list):\n",
    "        return True\n",
    "    return False\n",
    "\n",
    "def isIterrator(string):\n",
    "    list = ['++','--']\n",
    "\n",
    "    if(string in list):\n",
    "        return True\n",
    "    return False\n",
    "\n",
    "def isAffectation(string):\n",
    "    list = ['=','+=','-=']\n",
    "\n",
    "    if(string in list):\n",
    "        return True\n",
    "    return False\n",
    "\n",
    "def isType(string):\n",
    "    list = ['char','int','float', 'double', 'void']\n",
    "\n",
    "    if(string in list):\n",
    "        return True\n",
    "    return False"
   ]
  },
  {
   "cell_type": "markdown",
   "metadata": {},
   "source": [
    "4. __Les valeures__\n",
    "\n",
    "isValue() est une fonction de catégorisation un peu spécial, elle va détecter les valeurs, quelles soit numériques (integer, float, double), ou des strings et char."
   ]
  },
  {
   "cell_type": "code",
   "execution_count": 54,
   "metadata": {},
   "outputs": [],
   "source": [
    "def isValue(string):\n",
    "    string = string.replace('.','',1)\n",
    "    string = string.replace('e','',1)\n",
    "\n",
    "    if (string.isnumeric() == True or string == \"\") or ((string[0] == \"'\" and string[-1]) == \"'\" or (string[0] == \"\\\"\" and string[-1] == \"\\\"\")):\n",
    "        return True\n",
    "    return False"
   ]
  },
  {
   "cell_type": "markdown",
   "metadata": {},
   "source": [
    "Pour savoir si le contenu d'un string est une valeure numerique, nous avons à notre disposition la méthode isnumeric(). Cependant, nous devons faire attention car cette méthode returnera True seulement si tout les caractères du string sont des numéros. Ainsi, elle ne prend pas en compte les formes exponentielles ou décimales\n",
    "\n",
    "Afin de palier ce problème nous supprimons la première iterration de 'e' ainsi que la première iteration de '.' et regardons ensuite si il ne reste que des nombres.\n",
    "\n",
    "Voici un example:"
   ]
  },
  {
   "cell_type": "code",
   "execution_count": 55,
   "metadata": {},
   "outputs": [
    {
     "name": "stdout",
     "output_type": "stream",
     "text": [
      "False\n",
      "True\n",
      "False\n"
     ]
    }
   ],
   "source": [
    "s1 = '22.44e2'\n",
    "s2 = '22e45e6'\n",
    "print(s.isnumeric())\n",
    "print(isValue(s1))\n",
    "print(isValue(s2))"
   ]
  },
  {
   "cell_type": "markdown",
   "metadata": {},
   "source": [
    "Comme nous pouvons le voir, en utilisant uniquement la fonction isnumeric(), s1 est considéré comme False. Avec notre fonction isValue() en revanche, cela return True.\n",
    "On peut aussi remarquer que nous ne supprimons que la première iterration du \"e\" et ne returnera donc pas True pour un string avec plusieurs \"e\""
   ]
  },
  {
   "cell_type": "markdown",
   "metadata": {},
   "source": [
    "Notre fonction retourne aussi True lorsque nous lui faisons passer des strings, char ou string vide comme le montre les examples ci-dessous:"
   ]
  },
  {
   "cell_type": "code",
   "execution_count": 65,
   "metadata": {},
   "outputs": [
    {
     "name": "stdout",
     "output_type": "stream",
     "text": [
      "True\n",
      "True\n",
      "True\n"
     ]
    }
   ],
   "source": [
    "s1 = \"'bonjour'\"\n",
    "s2 = '\"bonsoir\"'\n",
    "s3 = \"\"\n",
    "print(isValue(s1))\n",
    "print(isValue(s2))\n",
    "print(isValue(s3))"
   ]
  },
  {
   "cell_type": "markdown",
   "metadata": {},
   "source": [
    "5. __Fonction principale__\n",
    "\n",
    "Maitnenant que nous avons nos fonctions qui vont classer nos différents mots, nous pouvons les appeler à travers la fonction findType(words).\n",
    "\n",
    "Cette dernière va tout d'abord regarder la taille du mot afin de gagner du temps (certaines catégories ne sont composées que de mots à 1 caractère, ainsi, il est inutile de les tester si le mot est plus long. De même certaines catégories sont forcement composées de plus d'un caractère)\n",
    "\n",
    "Afin d'associer pour chaque mot le numéro de sa catégorie associé, nous crééons un tableau 2D nommé \"tab\" qui contiendra chaque mot de words dans la première dimension, ainsi que le numéro de catégorie associée dans la deuxième dimension. Ainsi, dès que nous trouvons à quelle catégorie appartient un mot, nous ajoutons la valeure associée au bon index dans la liste tab."
   ]
  },
  {
   "cell_type": "code",
   "execution_count": 57,
   "metadata": {},
   "outputs": [],
   "source": [
    "def findType(words):\n",
    "    tab = []\n",
    "    for cpt in range(len(words)):\n",
    "        tab.append([words[cpt], 0])\n",
    "        if len(words[cpt]) == 1:\n",
    "            if isOperator(words[cpt]):\n",
    "                tab[cpt][1] = 2\n",
    "            if isValue(words[cpt]) or words[cpt] == 'NULL':\n",
    "                tab[cpt][1] = 3\n",
    "            elif isComparator(words[cpt]):\n",
    "                tab[cpt][1] = 4\n",
    "            elif isAffectation(words[cpt]):\n",
    "                tab[cpt][1] = 6\n",
    "            elif words[cpt] == ',':\n",
    "                tab[cpt][1] = 11\n",
    "            elif words[cpt] == ';':\n",
    "                tab[cpt][1] = 12\n",
    "            elif words[cpt] == '*':\n",
    "                tab[cpt][1] = 13\n",
    "            elif words[cpt] == '(':\n",
    "                tab[cpt][1] = 14\n",
    "            elif words[cpt] == ')':\n",
    "                tab[cpt][1] = 15\n",
    "            elif words[cpt] == '{':\n",
    "                tab[cpt][1] = 16\n",
    "            elif words[cpt] == '}':\n",
    "                tab[cpt][1] = 17\n",
    "            elif words[cpt] == '[':\n",
    "                tab[cpt][1] = 18\n",
    "            elif words[cpt] == ']':\n",
    "                tab[cpt][1] = 19\n",
    "            elif words[cpt] == ':':\n",
    "                tab[cpt][1] = 20\n",
    "            elif words[cpt].isidentifier():\n",
    "                tab[cpt][1] = 1\n",
    "        else:\n",
    "            if isValue(words[cpt]) or words[cpt] == 'NULL':\n",
    "                tab[cpt][1] = 3\n",
    "            elif isComparator(words[cpt]):\n",
    "                tab[cpt][1] = 4\n",
    "            elif isIterrator(words[cpt]):\n",
    "                tab[cpt][1] = 5\n",
    "            elif isAffectation(words[cpt]):\n",
    "                tab[cpt][1] = 6\n",
    "            elif isType(words[cpt]):\n",
    "                tab[cpt][1] = 7\n",
    "            elif words[cpt] == \"short\":\n",
    "                tab[cpt][1] = 8\n",
    "            elif words[cpt] == \"signed\" or words[cpt] == \"unsigned\":\n",
    "                tab[cpt][1] = 9\n",
    "            elif words[cpt] == \"long\":\n",
    "                tab[cpt][1] = 10\n",
    "            elif words[cpt] == \"while\":\n",
    "                tab[cpt][1] = 21\n",
    "            elif words[cpt] == \"auto\":\n",
    "                tab[cpt][1] = 22\n",
    "            elif words[cpt] == \"break\":\n",
    "                tab[cpt][1] = 23\n",
    "            elif words[cpt] == \"case\":\n",
    "                tab[cpt][1] = 24\n",
    "            elif words[cpt] == \"const\":\n",
    "                tab[cpt][1] = 25\n",
    "            elif words[cpt] == \"continue\":\n",
    "                tab[cpt][1] = 26\n",
    "            elif words[cpt] == \"default\":\n",
    "                tab[cpt][1] = 27\n",
    "            elif words[cpt] == \"do\":\n",
    "                tab[cpt][1] = 28\n",
    "            elif words[cpt] == \"else\":\n",
    "                tab[cpt][1] = 29\n",
    "            elif words[cpt] == \"enum\":\n",
    "                tab[cpt][1] = 39\n",
    "            elif words[cpt] == \"extern\":\n",
    "                tab[cpt][1] = 31\n",
    "            elif words[cpt] == \"for\":\n",
    "                tab[cpt][1] = 32\n",
    "            elif words[cpt] == \"goto\":\n",
    "                tab[cpt][1] = 33\n",
    "            elif words[cpt] == \"if\":\n",
    "                tab[cpt][1] = 34\n",
    "            elif words[cpt] == \"register\":\n",
    "                tab[cpt][1] = 35\n",
    "            elif words[cpt] == \"return\":\n",
    "                tab[cpt][1] = 36\n",
    "            elif words[cpt] == \"sizeof\":\n",
    "                tab[cpt][1] = 37\n",
    "            elif words[cpt] == \"static\":\n",
    "                tab[cpt][1] = 38\n",
    "            elif words[cpt] == \"struct\":\n",
    "                tab[cpt][1] = 39\n",
    "            elif words[cpt] == \"switch\":\n",
    "                tab[cpt][1] = 40\n",
    "            elif words[cpt] == \"typedef\":\n",
    "                tab[cpt][1] = 41\n",
    "            elif words[cpt] == \"union\":\n",
    "                tab[cpt][1] = 42\n",
    "            elif words[cpt] == \"void\":\n",
    "                tab[cpt][1] = 43\n",
    "            elif words[cpt] == \"volatile\":\n",
    "                tab[cpt][1] = 44  \n",
    "            elif words[cpt].isidentifier():\n",
    "                tab[cpt][1] = 1\n",
    "    return tab"
   ]
  },
  {
   "cell_type": "markdown",
   "metadata": {},
   "source": [
    "Ainsi, si nous reprenons notre liste fraichement sortit du sashimi, nous obtenons le tableau suivant : "
   ]
  },
  {
   "cell_type": "code",
   "execution_count": 60,
   "metadata": {},
   "outputs": [
    {
     "name": "stdout",
     "output_type": "stream",
     "text": [
      "[['float', 7], ['average', 1], ['(', 14], ['float', 7], ['values', 1], ['[', 18], [']', 19], [',', 11], ['int', 7], ['n_vals', 1], [')', 15], ['{', 16], ['int', 7], ['i', 1], [';', 12], ['float', 7], ['res', 1], ['=', 6], ['0', 3], [';', 12], ['for', 32], ['(', 14], ['i', 1], ['=', 6], ['0', 3], [';', 12], ['i', 1], ['<', 4], ['n_vals', 1], [';', 12], ['i', 1], ['+', 2], ['+', 2], [')', 15], ['res', 1], ['+', 2], ['=', 6], ['values', 1], ['[', 18], ['i', 1], [']', 19], [';', 12], ['return', 36], ['(', 14], ['res', 1], ['/', 2], ['n_values', 1], [')', 15], [';', 12], ['printf', 1], ['(', 14], ['\"%c\"', 3], [',', 11], [\"'a'\", 3], [')', 15], [';', 12], ['}', 17]]\n"
     ]
    }
   ],
   "source": [
    "words = ['float', 'average', '(', 'float', 'values', '[', ']', ',', 'int', 'n_vals', ')', '{', 'int', 'i', ';', 'float', 'res', '=', '0', ';', 'for', '(', 'i', '=', '0', ';', 'i', '<', 'n_vals', ';', 'i', '+', '+', ')', 'res', '+', '=', 'values', '[', 'i', ']', ';', 'return', '(', 'res', '/', 'n_values', ')', ';', 'printf', '(', '\"%c\"', ',', \"'a'\", ')', ';', '}']\n",
    "tab = findType(words)\n",
    "print(tab)"
   ]
  },
  {
   "cell_type": "markdown",
   "metadata": {},
   "source": [
    "On peut donc voir que le premier mot \"float\" a été associé à la catégorie numéro 7, qui représente la catégorie \"type\" : mots clés définissant le type d'une variable.\n",
    "De même, le mot clé \"average\" est associé à la catégorie 1 qui représente les id : les fonctions ou noms de variable."
   ]
  },
  {
   "cell_type": "markdown",
   "metadata": {},
   "source": [
    "6. __Transformation en code ASCII__\n",
    "\n",
    "Maintenant que nous avons associé à chaque mot son numéro de catégorie, nous n'avons plus besoin des mots en eux-même. Notre objectif final et d'obtenir une string composé de catégories.\n",
    "\n",
    "Pour faire cela nous avons décidé de transformer les numéros de catégories en code ASCII"
   ]
  },
  {
   "cell_type": "code",
   "execution_count": 63,
   "metadata": {},
   "outputs": [],
   "source": [
    "def to_ascii(tab) :\n",
    "    string = ''\n",
    "    for word in tab:\n",
    "        c = chr(65 + word[1])\n",
    "        string += c\n",
    "    return string"
   ]
  },
  {
   "cell_type": "code",
   "execution_count": 67,
   "metadata": {},
   "outputs": [
    {
     "name": "stdout",
     "output_type": "stream",
     "text": [
      "HBOHBSTLHBPQHBMHBGDMaOBGDMBEBMBCCPBCGBSBTMeOBCBPMBODLDPMR\n"
     ]
    }
   ],
   "source": [
    "print(to_ascii(tab))"
   ]
  },
  {
   "cell_type": "markdown",
   "metadata": {},
   "source": [
    "Ainsi, bien que peut reconnaissable sous cette forme, cette simple ligne nous permet de résumer un petit programme"
   ]
  },
  {
   "cell_type": "code",
   "execution_count": null,
   "metadata": {},
   "outputs": [],
   "source": []
  }
 ],
 "metadata": {
  "kernelspec": {
   "display_name": "Python 3",
   "language": "python",
   "name": "python3"
  },
  "language_info": {
   "codemirror_mode": {
    "name": "ipython",
    "version": 3
   },
   "file_extension": ".py",
   "mimetype": "text/x-python",
   "name": "python",
   "nbconvert_exporter": "python",
   "pygments_lexer": "ipython3",
   "version": "3.8.5"
  }
 },
 "nbformat": 4,
 "nbformat_minor": 5
}