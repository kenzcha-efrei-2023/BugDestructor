{
 "cells": [
  {
   "cell_type": "markdown",
   "metadata": {
    "collapsed": true,
    "pycharm": {
     "name": "#%% md\n"
    }
   },
   "source": [
    "# Projet Voltaire 2.0\n",
    "## Préparation de la donnée 1 : sashimi de fichiers\n",
    "### Equipe 242\n",
    "---\n",
    "Cet ensemble de fonctions sert comme premier parser de code en C : les fichiers sont découpés en tokens, ou mots, unité lexicale sur laquelle nous nous basons pour effectuer nos prédictions.\n",
    "\n",
    "Voici toutes les fonctions avec un exemple d'utilisation pour chacune. Elles sont toutes localisées dans le fichier \"file_sashimi.py\"\n",
    "\n",
    "1. _Variables globales_\n",
    "\n",
    "Les delimiters representent l'ensemble des caractères de séparation (séparant les mots). Nous les avons stockés dans un tableau."
   ]
  },
  {
   "cell_type": "code",
   "source": [
    "delimiters = [' ', '*', '/', ',', ';', '(', ')', '[', ']', '{', '}', '=', '<', '>', '+', '-', '&', '|', '!','?',':']\n"
   ],
   "metadata": {
    "collapsed": false,
    "pycharm": {
     "name": "#%%\n"
    }
   },
   "execution_count": 30,
   "outputs": []
  },
  {
   "cell_type": "markdown",
   "source": [
    "2. _Enlever les commentaires_\n",
    "\n",
    "En C, 2 types de commentaires existent :\n",
    "- ceux sur de multiples lignes (ici appeles c comments) commençant par `/*` et finissant par `*/`\n",
    "- ceux sur une seule ligne (ici appeles cpp comments) commençant par `//`\n",
    "\n",
    "Nous commençons par tous les enlever, vu qu'ils importent pas du tout"
   ],
   "metadata": {
    "collapsed": false
   }
  },
  {
   "cell_type": "code",
   "execution_count": 31,
   "outputs": [
    {
     "name": "stdout",
     "output_type": "stream",
     "text": [
      "Code de depart :\n",
      "\n",
      "==================\n",
      "/* Voici ma tentative de coder \n",
      "une fonction calculant la moyenne en C */\n",
      "//test\n",
      "float average(float values[], int n_vals)\n",
      "{\n",
      "int i;\n",
      "float res=0;\n",
      "for(i=0;i<n_vals;i++)\n",
      "res+=values[i];\n",
      "return (res/n_values);\n",
      "printf(\"%c\", 'a');}\n",
      "\n",
      "\n",
      "Code apres retrait des commentaires cpp :\n",
      "\n",
      "==================\n",
      "/* Voici ma tentative de coder \n",
      "une fonction calculant la moyenne en C */\n",
      "\n",
      "float average(float values[], int n_vals)\n",
      "{\n",
      "int i;\n",
      "float res=0;\n",
      "for(i=0;i<n_vals;i++)\n",
      "res+=values[i];\n",
      "return (res/n_values);\n",
      "printf(\"%c\", 'a');}\n",
      "\n",
      "\n",
      "Code apres retrait des commentaires c :\n",
      "\n",
      "==================\n",
      "\n",
      "\n",
      "float average(float values[], int n_vals)\n",
      "{\n",
      "int i;\n",
      "float res=0;\n",
      "for(i=0;i<n_vals;i++)\n",
      "res+=values[i];\n",
      "return (res/n_values);\n",
      "printf(\"%c\", 'a');}\n"
     ]
    }
   ],
   "source": [
    "def remove_c_comments(st):\n",
    "    while st.find('/*') != -1:\n",
    "        if st.find('/*') != -1 and st.find('*/') != -1:\n",
    "            a = st.find('/*')\n",
    "            b = st.find('*/')\n",
    "            if a < b:\n",
    "                st = st[:a] + st[b + 2:]\n",
    "            else:\n",
    "                return \"Erreur\"\n",
    "    return st\n",
    "\n",
    "def remove_cpp_comment(st):\n",
    "    while st.find('//') != -1:\n",
    "        deb = st.find('//')\n",
    "        fin = st[deb:].find('\\n') + deb\n",
    "        if fin != -1:\n",
    "            st = st[:deb] + st[fin:]\n",
    "        else:\n",
    "            st = st[:deb]\n",
    "    return st\n",
    "\n",
    "print(\"Code de depart :\\n\\n==================\")\n",
    "code = \"/* Voici ma tentative de coder \\nune fonction calculant la moyenne en C */\\n//test\\nfloat average(float values[], int n_vals)\\n{\\nint i;\\nfloat res=0;\\nfor(i=0;i<n_vals;i++)\\nres+=values[i];\\nreturn (res/n_values);\\nprintf(\\\"%c\\\", 'a');}\"\n",
    "print(code)\n",
    "print(\"\\n\\nCode apres retrait des commentaires cpp :\\n\\n==================\")\n",
    "code = remove_cpp_comment(code)\n",
    "print(code)\n",
    "print(\"\\n\\nCode apres retrait des commentaires c :\\n\\n==================\")\n",
    "code = remove_c_comments(code)\n",
    "print(code)"
   ],
   "metadata": {
    "collapsed": false,
    "pycharm": {
     "name": "#%%\n"
    }
   }
  },
  {
   "cell_type": "markdown",
   "source": [
    "3. _Enlèvement des caractères d'échappement_\n",
    "\n",
    "Contrairement a du python, l'indentation et les retours a la ligne n'importent pas en C. Nous les avons donc retirés"
   ],
   "metadata": {
    "collapsed": false,
    "pycharm": {
     "name": "#%% md\n"
    }
   }
  },
  {
   "cell_type": "code",
   "execution_count": 32,
   "outputs": [
    {
     "name": "stdout",
     "output_type": "stream",
     "text": [
      "Code a la sortie precedente :\n",
      "\n",
      "==================\n",
      "\n",
      "\n",
      "float average(float values[], int n_vals)\n",
      "{\n",
      "int i;\n",
      "float res=0;\n",
      "for(i=0;i<n_vals;i++)\n",
      "res+=values[i];\n",
      "return (res/n_values);\n",
      "printf(\"%c\", 'a');}\n",
      "\n",
      "\n",
      "Code apres retrait des retours a la lignes, tabulation et retour chariot :\n",
      "\n",
      "==================\n",
      "\n",
      "float average(float values[], int n_vals){int i;float res=0;for(i=0;i<n_vals;i++)res+=values[i];return (res/n_values);printf(\"%c\", 'a');}\n"
     ]
    }
   ],
   "source": [
    "def remove_char(st, c):\n",
    "    return \"\".join([i for i in st if i != c])\n",
    "\n",
    "print(\"Code a la sortie precedente :\\n\\n==================\")\n",
    "print(code)\n",
    "code = remove_char(code, '\\t')\n",
    "code = remove_char(code, '\\n')\n",
    "code = remove_char(code, '\\r')\n",
    "print(\"\\n\\nCode apres retrait des retours a la lignes, tabulation et retour chariot :\\n\\n==================\\n\")\n",
    "print(code)"
   ],
   "metadata": {
    "collapsed": false,
    "pycharm": {
     "name": "#%%\n"
    }
   }
  },
  {
   "cell_type": "markdown",
   "source": [
    "3. _Découpage des chaines de caractere/caractère_\n",
    "\n",
    "Il est impératif de traiter les string/caracteres, mis entre `\"` ou `'` comme un cas a part ! Imaginons une seconde qu'il y ait du code entre les guillemets, on ne voudrait pas le considerer comme tel ! Il nous a donc semblé logique de commencer le découpage par la."
   ],
   "metadata": {
    "collapsed": false
   }
  },
  {
   "cell_type": "code",
   "execution_count": 33,
   "outputs": [
    {
     "name": "stdout",
     "output_type": "stream",
     "text": [
      "\n",
      "\n",
      "Code apres decoupages des strings/caracteres :\n",
      "\n",
      "==================\n",
      "['float average(float values[], int n_vals){int i;float res=0;for(i=0;i<n_vals;i++)res+=values[i];return (res/n_values);printf(', '\"%c\"', ', ', \"'a'\", ');}']\n"
     ]
    }
   ],
   "source": [
    "def remove_blank_table(t) :\n",
    "    ta = []\n",
    "    for it in t :\n",
    "        if len(it) != 0 :\n",
    "            ta.append(it)\n",
    "    return ta\n",
    "\n",
    "def sashimi_string(st):\n",
    "    t = []\n",
    "    while st.find('\"') != -1:\n",
    "        if st[st.find('\"'):].find('\"') != -1 :\n",
    "            t.append(st[:st.find('\"')])\n",
    "            t.append(st[st.find('\"'): st[st.find('\"')+1:].find('\"')+st.find('\"')+2])\n",
    "            st = st[st[st.find('\"')+1:].find('\"')+st.find('\"')+2:]\n",
    "        else :\n",
    "            st = st[st.find('\"')+1:]\n",
    "    t.append(st)\n",
    "    return remove_blank_table(t)\n",
    "\n",
    "def sashimi_ch(ta):\n",
    "    t = []\n",
    "    for st in ta :\n",
    "        if st[0] != '\"' :\n",
    "            while st.find(\"'\") != -1:\n",
    "                if st[st.find(\"'\"):].find(\"'\") != -1 :\n",
    "                    t.append(st[:st.find(\"'\")])\n",
    "                    t.append(st[st.find(\"'\"): st[st.find(\"'\")+1:].find(\"'\")+st.find(\"'\")+2])\n",
    "                    st = st[st[st.find(\"'\")+1:].find(\"'\")+st.find(\"'\")+2:]\n",
    "                else :\n",
    "                    st = st[st.find(\"'\")+1:]\n",
    "            t.append(st)\n",
    "        else :\n",
    "            t.append(st)\n",
    "    return remove_blank_table(t)\n",
    "\n",
    "code = sashimi_string(code)\n",
    "code = sashimi_ch(code)\n",
    "print(\"\\n\\nCode apres decoupages des strings/caracteres :\\n\\n==================\")\n",
    "print(code)"
   ],
   "metadata": {
    "collapsed": false,
    "pycharm": {
     "name": "#%%\n"
    }
   }
  },
  {
   "cell_type": "markdown",
   "source": [
    "4. _C'est l'heure du sashimi !_\n",
    "\n",
    "Le code ainsi traité est prêt a être découpé en mots ! A chaque caractere de séparation (les delimiters vus plus tot), on effectue un tranchage. Parmi les delimiters, un n'est pas utile semantiquement parlant : l'espace. Pour eviter des calculs inutiles, on le retire"
   ],
   "metadata": {
    "collapsed": false
   }
  },
  {
   "cell_type": "code",
   "execution_count": 34,
   "outputs": [
    {
     "name": "stdout",
     "output_type": "stream",
     "text": [
      "\n",
      "\n",
      "Code apres sashimi complet :\n",
      "\n",
      "==================\n",
      "['float', 'average', '(', 'float', 'values', '[', ']', ',', 'int', 'n_vals', ')', '{', 'int', 'i', ';', 'float', 'res', '=', '0', ';', 'for', '(', 'i', '=', '0', ';', 'i', '<', 'n_vals', ';', 'i', '+', '+', ')', 'res', '+', '=', 'values', '[', 'i', ']', ';', 'return', '(', 'res', '/', 'n_values', ')', ';', 'printf', '(', '\"%c\"', ',', \"'a'\", ')', ';', '}']\n"
     ]
    }
   ],
   "source": [
    "def remove_space(t):\n",
    "    return [i for i in t if i!=' ']\n",
    "\n",
    "def sashimi_char(st, c):\n",
    "    tab = []\n",
    "    it = 0\n",
    "    a = 0\n",
    "    if st == '':\n",
    "        return []\n",
    "    if st[0] == '\"' :\n",
    "        return [st]\n",
    "    while a < len(st) and st[a] == c:\n",
    "        it += 1\n",
    "        tab.append(c)\n",
    "        a += 1\n",
    "    if a < len(st):\n",
    "        tab.append(st[a])\n",
    "    a += 1\n",
    "    for i in st[a:]:\n",
    "        if i == c:\n",
    "            it += 2\n",
    "            tab.append(c)\n",
    "            if a != len(st) - 1:\n",
    "                tab.append('')\n",
    "        else:\n",
    "            tab[it] = tab[it] + i\n",
    "        a += 1\n",
    "    return tab\n",
    "\n",
    "print(\"\\n\\nCode apres sashimi complet :\\n\\n==================\")\n",
    "for deli in delimiters:\n",
    "    t = []\n",
    "    for troncon in code:\n",
    "        if troncon != deli:\n",
    "            t += sashimi_char(troncon, deli)\n",
    "        else:\n",
    "            t += deli\n",
    "    code = t\n",
    "code = remove_space(code)\n",
    "print(code)"
   ],
   "metadata": {
    "collapsed": false,
    "pycharm": {
     "name": "#%%\n"
    }
   }
  },
  {
   "cell_type": "markdown",
   "source": [
    "Notre code ainsi finement découpé est prêt a être transformé !"
   ],
   "metadata": {
    "collapsed": false
   }
  }
 ],
 "metadata": {
  "kernelspec": {
   "display_name": "Python 3",
   "language": "python",
   "name": "python3"
  },
  "language_info": {
   "codemirror_mode": {
    "name": "ipython",
    "version": 2
   },
   "file_extension": ".py",
   "mimetype": "text/x-python",
   "name": "python",
   "nbconvert_exporter": "python",
   "pygments_lexer": "ipython2",
   "version": "2.7.6"
  }
 },
 "nbformat": 4,
 "nbformat_minor": 0
}